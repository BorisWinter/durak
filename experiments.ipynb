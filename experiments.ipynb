{
 "metadata": {
  "language_info": {
   "codemirror_mode": {
    "name": "ipython",
    "version": 3
   },
   "file_extension": ".py",
   "mimetype": "text/x-python",
   "name": "python",
   "nbconvert_exporter": "python",
   "pygments_lexer": "ipython3",
   "version": "3.7.4"
  },
  "orig_nbformat": 4,
  "kernelspec": {
   "name": "python3",
   "display_name": "Python 3.7.4 64-bit ('base': conda)"
  },
  "interpreter": {
   "hash": "42518a910d49e1bcbec57022f51c626a2b80126feae2f4ee4e7dd882ffabe5bf"
  }
 },
 "nbformat": 4,
 "nbformat_minor": 2,
 "cells": [
  {
   "cell_type": "code",
   "execution_count": 1,
   "metadata": {},
   "outputs": [],
   "source": [
    "# Imports\n",
    "import pandas as pd\n",
    "import durak"
   ]
  },
  {
   "cell_type": "code",
   "execution_count": 2,
   "metadata": {},
   "outputs": [],
   "source": [
    "def play_multiple(num_games, verbose = False):\n",
    "\n",
    "    strategies = {\n",
    "        \"player1\" : \"random\",\n",
    "        \"player2\" : \"random\",\n",
    "        \"player3\" : \"random\"\n",
    "    }\n",
    "\n",
    "    knowledge_depths = {\n",
    "        \"player1\" : 1,\n",
    "        \"player2\" : 1,\n",
    "        \"player3\" : 1\n",
    "    }\n",
    "\n",
    "    data = {}\n",
    "\n",
    "    for i in range(num_games):\n",
    "        model = durak.DurakModel(verbose=verbose)\n",
    "        data[\"game\" + str(i)] = durak.play(model)\n",
    "\n",
    "\n",
    "    return data"
   ]
  },
  {
   "cell_type": "code",
   "execution_count": 3,
   "metadata": {},
   "outputs": [],
   "source": [
    "data = play_multiple(10, verbose= False)\n",
    "\n",
    "df = pd.DataFrame.from_dict(data, orient=\"index\")\n"
   ]
  },
  {
   "cell_type": "code",
   "execution_count": 4,
   "metadata": {},
   "outputs": [
    {
     "output_type": "execute_result",
     "data": {
      "text/plain": [
       "       num_players  num_suits  num_cards_per_suit  num_starting_cards  durak  \\\n",
       "game0            3          3                   3                   1      2   \n",
       "game1            3          3                   3                   1      2   \n",
       "game2            3          3                   3                   1      2   \n",
       "game3            3          3                   3                   1      0   \n",
       "game4            3          3                   3                   1      1   \n",
       "game5            3          3                   3                   1      2   \n",
       "game6            3          3                   3                   1      0   \n",
       "game7            3          3                   3                   1      2   \n",
       "game8            3          3                   3                   1      1   \n",
       "game9            3          3                   3                   1      1   \n",
       "\n",
       "      winners player_strategies player_depths  \n",
       "game0  [0, 1]                []            []  \n",
       "game1  [0, 1]                []            []  \n",
       "game2  [0, 1]                []            []  \n",
       "game3  [1, 2]                []            []  \n",
       "game4  [0, 2]                []            []  \n",
       "game5  [0, 1]                []            []  \n",
       "game6  [1, 2]                []            []  \n",
       "game7  [0, 1]                []            []  \n",
       "game8  [0, 2]                []            []  \n",
       "game9  [2, 0]                []            []  "
      ],
      "text/html": "<div>\n<style scoped>\n    .dataframe tbody tr th:only-of-type {\n        vertical-align: middle;\n    }\n\n    .dataframe tbody tr th {\n        vertical-align: top;\n    }\n\n    .dataframe thead th {\n        text-align: right;\n    }\n</style>\n<table border=\"1\" class=\"dataframe\">\n  <thead>\n    <tr style=\"text-align: right;\">\n      <th></th>\n      <th>num_players</th>\n      <th>num_suits</th>\n      <th>num_cards_per_suit</th>\n      <th>num_starting_cards</th>\n      <th>durak</th>\n      <th>winners</th>\n      <th>player_strategies</th>\n      <th>player_depths</th>\n    </tr>\n  </thead>\n  <tbody>\n    <tr>\n      <td>game0</td>\n      <td>3</td>\n      <td>3</td>\n      <td>3</td>\n      <td>1</td>\n      <td>2</td>\n      <td>[0, 1]</td>\n      <td>[]</td>\n      <td>[]</td>\n    </tr>\n    <tr>\n      <td>game1</td>\n      <td>3</td>\n      <td>3</td>\n      <td>3</td>\n      <td>1</td>\n      <td>2</td>\n      <td>[0, 1]</td>\n      <td>[]</td>\n      <td>[]</td>\n    </tr>\n    <tr>\n      <td>game2</td>\n      <td>3</td>\n      <td>3</td>\n      <td>3</td>\n      <td>1</td>\n      <td>2</td>\n      <td>[0, 1]</td>\n      <td>[]</td>\n      <td>[]</td>\n    </tr>\n    <tr>\n      <td>game3</td>\n      <td>3</td>\n      <td>3</td>\n      <td>3</td>\n      <td>1</td>\n      <td>0</td>\n      <td>[1, 2]</td>\n      <td>[]</td>\n      <td>[]</td>\n    </tr>\n    <tr>\n      <td>game4</td>\n      <td>3</td>\n      <td>3</td>\n      <td>3</td>\n      <td>1</td>\n      <td>1</td>\n      <td>[0, 2]</td>\n      <td>[]</td>\n      <td>[]</td>\n    </tr>\n    <tr>\n      <td>game5</td>\n      <td>3</td>\n      <td>3</td>\n      <td>3</td>\n      <td>1</td>\n      <td>2</td>\n      <td>[0, 1]</td>\n      <td>[]</td>\n      <td>[]</td>\n    </tr>\n    <tr>\n      <td>game6</td>\n      <td>3</td>\n      <td>3</td>\n      <td>3</td>\n      <td>1</td>\n      <td>0</td>\n      <td>[1, 2]</td>\n      <td>[]</td>\n      <td>[]</td>\n    </tr>\n    <tr>\n      <td>game7</td>\n      <td>3</td>\n      <td>3</td>\n      <td>3</td>\n      <td>1</td>\n      <td>2</td>\n      <td>[0, 1]</td>\n      <td>[]</td>\n      <td>[]</td>\n    </tr>\n    <tr>\n      <td>game8</td>\n      <td>3</td>\n      <td>3</td>\n      <td>3</td>\n      <td>1</td>\n      <td>1</td>\n      <td>[0, 2]</td>\n      <td>[]</td>\n      <td>[]</td>\n    </tr>\n    <tr>\n      <td>game9</td>\n      <td>3</td>\n      <td>3</td>\n      <td>3</td>\n      <td>1</td>\n      <td>1</td>\n      <td>[2, 0]</td>\n      <td>[]</td>\n      <td>[]</td>\n    </tr>\n  </tbody>\n</table>\n</div>"
     },
     "metadata": {},
     "execution_count": 4
    }
   ],
   "source": [
    "df"
   ]
  }
 ]
}